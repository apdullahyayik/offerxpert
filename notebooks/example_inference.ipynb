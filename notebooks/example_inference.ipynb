{
 "cells": [
  {
   "cell_type": "markdown",
   "source": [
    "# Example Inference\n",
    "In this Notebook, we illustrate an instance of model-based inference. This illustration entails the following steps:\n",
    "\n",
    "1. Loading a sample query, which pertains to an \"offer.\"\n",
    "2. Conducting a search operation, which involves retrieval and ranking, to identify the most closely matching product corresponding to the given query.\n",
    "\n",
    "The retrieval process employs a Siamese network in conjunction with an approximate neighbor search mechanism to obtain the top 10 products that exhibit the highest degree of similarity.\n",
    "\n",
    "As for the ranking process, it is worth noting that, as of now, an alternative machine learning model is not yet available. Therefore, from the pool of retrieved products, the system selects the product whose price falls within the expected range, determined by the price calculations associated with the respective product."
   ],
   "metadata": {
    "collapsed": false
   }
  },
  {
   "cell_type": "code",
   "execution_count": 2,
   "outputs": [],
   "source": [
    "from offerexpert.inference import Inference\n",
    "from pathlib import Path\n",
    "import json\n",
    "from offerexpert.data.provider.load_data import PATH_DATA\n",
    "from offerexpert.evaluate import isin_expected_range\n",
    "\n",
    "_ARTEFACT_FOLDER = Path(\"../models/experiment-default\")"
   ],
   "metadata": {
    "collapsed": false,
    "ExecuteTime": {
     "end_time": "2023-10-29T18:52:58.932735Z",
     "start_time": "2023-10-29T18:52:58.929332Z"
    }
   }
  },
  {
   "cell_type": "markdown",
   "source": [
    "## Load query"
   ],
   "metadata": {
    "collapsed": false
   }
  },
  {
   "cell_type": "code",
   "execution_count": 3,
   "outputs": [
    {
     "name": "stdout",
     "output_type": "stream",
     "text": [
      "{'offerId': '101551_15530-xiaomi-pocophone-f1-global-version-618-inch-6gb-128gb-snapdragon-845-octa-core-4g-smartphone', 'name': 'xiaomi pocophone f1 global version 6.18 inch 6gb 128gb snapdragon 845 octa core 4g smartphone', 'description': None, 'gtin14': None, 'isbn10': None, 'priceAmount': '309.99', 'lastUpdated': '2019-09-13T07:35:37.408+02:00'}\n"
     ]
    }
   ],
   "source": [
    "with open(\"query.json\", \"r\", encoding=\"utf-8\") as fp:\n",
    "    offer = json.load(fp)\n",
    "print(offer)"
   ],
   "metadata": {
    "collapsed": false,
    "ExecuteTime": {
     "end_time": "2023-10-29T18:53:00.101491Z",
     "start_time": "2023-10-29T18:53:00.096727Z"
    }
   }
  },
  {
   "cell_type": "markdown",
   "source": [
    "## Retrieval: Match with the most similar Product IDs"
   ],
   "metadata": {
    "collapsed": false
   }
  },
  {
   "cell_type": "code",
   "execution_count": 4,
   "outputs": [
    {
     "name": "stdout",
     "output_type": "stream",
     "text": [
      "matched_product_ids: ['4689772' '4689772' '4689772' '4689772' '4689772' '4689772' '4689772'\n",
      " '4689772' '4689772' '4689772']\n"
     ]
    }
   ],
   "source": [
    "model_inference = Inference.load_model(_ARTEFACT_FOLDER)\n",
    "matched_product_ids = model_inference(offer[\"name\"], top_n=10)\n",
    "print(f\"matched_product_ids: {matched_product_ids}\")"
   ],
   "metadata": {
    "collapsed": false,
    "ExecuteTime": {
     "end_time": "2023-10-29T18:53:01.214302Z",
     "start_time": "2023-10-29T18:53:01.163294Z"
    }
   }
  },
  {
   "cell_type": "markdown",
   "source": [
    "## Ranker: Select by amount"
   ],
   "metadata": {
    "collapsed": false
   }
  },
  {
   "cell_type": "code",
   "execution_count": 5,
   "outputs": [
    {
     "name": "stdout",
     "output_type": "stream",
     "text": [
      "matched product id: 4689772\n"
     ]
    }
   ],
   "source": [
    "with open(Path(PATH_DATA) / \"products.json\", \"r\", encoding=\"utf-8\") as fp:\n",
    "    products = json.load(fp)\n",
    "\n",
    "for product_id in matched_product_ids:\n",
    "    amount_mean_std = [\n",
    "        (p[\"priceCalculations\"].get(\"mean\", 0.0), p[\"priceCalculations\"].get(\"standardDeviation\", 0.0)) if isinstance(\n",
    "            p[\"priceCalculations\"], dict) else (0.0, 0.0) for p in products if p[\"id\"] == product_id]\n",
    "    mean_ = amount_mean_std[0][0]\n",
    "    std_ = amount_mean_std[0][1]\n",
    "    if isin_expected_range(offer[\"priceAmount\"], mean_, std_):\n",
    "        matched_product_id = product_id\n",
    "        break\n",
    "else:\n",
    "    matched_product_id = matched_product_ids[0]\n",
    "print(f\"matched product id: {matched_product_id}\")"
   ],
   "metadata": {
    "collapsed": false,
    "ExecuteTime": {
     "end_time": "2023-10-29T18:53:02.995888Z",
     "start_time": "2023-10-29T18:53:02.738706Z"
    }
   }
  },
  {
   "cell_type": "markdown",
   "source": [
    "## Check matched product"
   ],
   "metadata": {
    "collapsed": false
   }
  },
  {
   "cell_type": "code",
   "execution_count": 6,
   "outputs": [
    {
     "name": "stdout",
     "output_type": "stream",
     "text": [
      "xiaomi poco f1 128gb dual sim / unlocked - blue,xiaomi pocophone f1 128gb blue ds eu spec - 24 month warranty,movil smartphone xiaomi pocophone f1 6gb 128gb azul,xiaomi pocophone f1 global version 6.18 inch 6gb 128gb snapdragon 845 octa core 4g smartphone,xiaomi pocophone f1 6gb ram og 128gb storage (dual sim)-uk sim-gratis smartphone-6,18-tommer android 8,1-grafit sort,xiaomi poco f1 128gb dual sim / unlocked - blue,xiaomi pocophone f1 global version 6.18 inch 6gb 128gb snapdragon 845 octa core 4g smartphone,xiaomi pocophone f1 dual sim 128gb 6gb ram black,movil smartphone xiaomi pocophone f1 6gb 128gb negro,xiaomi poco f1 128gb dual sim / unlocked - black,xiaomi pocophone f1 6gb/128gb dual sim sim free/ unlocked - black,xiaomi pocophone f1 dual sim 128gb 6gb ram sort,xiaomi poco f1 128gb dual sim / unlocked - black,xiaomi pocophone f1 6.18 128gb 4g sort,xiaomi pocophone f1 (6.18 inch) 128gb 12mp smartphone (graphite black),xiaomi m1805e10an-128 pocophonef1 smartphone 128 gb - p, 64gb,xiaomi pocophone f1 6gb/128gb dual sim with mi sports bluetooth earphones international ver. (white) - blue,xiaomi pocophone f1 6gb/128gb dual sim with 32gb micro sdhc memory card with sd adapter - blue,xiaomi pocophone f1 6gb/128gb dual sim sim free/ unlocked - blue\n"
     ]
    }
   ],
   "source": [
    "for product in products:\n",
    "    if product[\"id\"] == matched_product_id:\n",
    "        verified_names = product[\"positivelyVerifiedOfferNames\"]\n",
    "        if verified_names:\n",
    "            print(\",\".join([p[\"name\"] for p in verified_names]))"
   ],
   "metadata": {
    "collapsed": false,
    "ExecuteTime": {
     "end_time": "2023-10-29T18:53:04.403537Z",
     "start_time": "2023-10-29T18:53:04.397610Z"
    }
   }
  }
 ],
 "metadata": {
  "kernelspec": {
   "display_name": "Python 3",
   "language": "python",
   "name": "python3"
  },
  "language_info": {
   "codemirror_mode": {
    "name": "ipython",
    "version": 2
   },
   "file_extension": ".py",
   "mimetype": "text/x-python",
   "name": "python",
   "nbconvert_exporter": "python",
   "pygments_lexer": "ipython2",
   "version": "2.7.6"
  }
 },
 "nbformat": 4,
 "nbformat_minor": 0
}
